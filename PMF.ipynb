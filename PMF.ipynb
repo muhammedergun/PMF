{
  "nbformat": 4,
  "nbformat_minor": 0,
  "metadata": {
    "colab": {
      "name": "PMF",
      "version": "0.3.2",
      "provenance": [],
      "collapsed_sections": [
        "KNWsScBHYg30",
        "vxdjYQVXYmId",
        "-gyFrWqxZYuw",
        "Wm9tN28JZki-"
      ],
      "include_colab_link": true
    },
    "kernelspec": {
      "name": "python3",
      "display_name": "Python 3"
    }
  },
  "cells": [
    {
      "cell_type": "markdown",
      "metadata": {
        "id": "view-in-github",
        "colab_type": "text"
      },
      "source": [
        "<a href=\"https://colab.research.google.com/github/muhammedergun/PMF/blob/master/PMF.ipynb\" target=\"_parent\"><img src=\"https://colab.research.google.com/assets/colab-badge.svg\" alt=\"Open In Colab\"/></a>"
      ]
    },
    {
      "metadata": {
        "id": "t4TgmbeCXtxG",
        "colab_type": "text"
      },
      "cell_type": "markdown",
      "source": [
        "# PMF Örneği"
      ]
    },
    {
      "metadata": {
        "id": "KNWsScBHYg30",
        "colab_type": "text"
      },
      "cell_type": "markdown",
      "source": [
        "# **İki zar ard arda 100 kez atılıyor. **"
      ]
    },
    {
      "metadata": {
        "id": "2wCuJJYXY6jT",
        "colab_type": "code",
        "colab": {
          "base_uri": "https://localhost:8080/",
          "height": 54
        },
        "outputId": "e04c72dd-8741-4d13-f5c4-0b7699251a02"
      },
      "cell_type": "code",
      "source": [
        "import random\n",
        "\n",
        "lst=[]\n",
        "\n",
        "for i in range(0,100):\n",
        "    lst.append(random.randint(1,6)+random.randint(1,6))\n",
        "print(\"lst = %s\" %lst)"
      ],
      "execution_count": 13,
      "outputs": [
        {
          "output_type": "stream",
          "text": [
            "lst = [10, 7, 6, 8, 4, 6, 7, 5, 7, 8, 11, 12, 9, 10, 8, 8, 4, 3, 7, 3, 9, 7, 4, 7, 11, 4, 2, 3, 4, 10, 6, 10, 4, 7, 7, 4, 7, 10, 7, 6, 8, 8, 3, 9, 12, 5, 4, 11, 11, 4, 10, 4, 6, 7, 9, 8, 7, 8, 9, 11, 3, 4, 3, 6, 12, 8, 5, 3, 2, 4, 7, 8, 8, 11, 5, 8, 8, 3, 9, 8, 5, 6, 6, 6, 9, 8, 12, 8, 9, 6, 3, 9, 7, 8, 5, 6, 3, 8, 7, 6]\n"
          ],
          "name": "stdout"
        }
      ]
    },
    {
      "metadata": {
        "id": "vxdjYQVXYmId",
        "colab_type": "text"
      },
      "cell_type": "markdown",
      "source": [
        "# **a) Atılan zarların toplamlarının sayısına ait kesikli olasılık dagılımını bulunuz. **"
      ]
    },
    {
      "metadata": {
        "id": "BikScwTscAQS",
        "colab_type": "code",
        "colab": {
          "base_uri": "https://localhost:8080/",
          "height": 204
        },
        "outputId": "2841f299-69b1-41bf-f208-9105438f397c"
      },
      "cell_type": "code",
      "source": [
        "for i in range (2,13):\n",
        "    a=lst.count(i)\n",
        "    print(\"%s --> %s tane var\" % (i,a))"
      ],
      "execution_count": 14,
      "outputs": [
        {
          "output_type": "stream",
          "text": [
            "2 --> 2 tane var\n",
            "3 --> 10 tane var\n",
            "4 --> 12 tane var\n",
            "5 --> 6 tane var\n",
            "6 --> 12 tane var\n",
            "7 --> 15 tane var\n",
            "8 --> 18 tane var\n",
            "9 --> 9 tane var\n",
            "10 --> 6 tane var\n",
            "11 --> 6 tane var\n",
            "12 --> 4 tane var\n"
          ],
          "name": "stdout"
        }
      ]
    },
    {
      "metadata": {
        "id": "x3kiJZ1IZRju",
        "colab_type": "code",
        "colab": {
          "base_uri": "https://localhost:8080/",
          "height": 204
        },
        "outputId": "d23511af-1c06-44bd-9543-f88039d24c57"
      },
      "cell_type": "code",
      "source": [
        "for i in range (2,13):\n",
        "    a=lst.count(i)\n",
        "    px=a/100\n",
        "    print(\"P[%s]= %s / 100 = %s\" % (i,a,px)) "
      ],
      "execution_count": 16,
      "outputs": [
        {
          "output_type": "stream",
          "text": [
            "P[2]= 2 / 100 = 0.02\n",
            "P[3]= 10 / 100 = 0.1\n",
            "P[4]= 12 / 100 = 0.12\n",
            "P[5]= 6 / 100 = 0.06\n",
            "P[6]= 12 / 100 = 0.12\n",
            "P[7]= 15 / 100 = 0.15\n",
            "P[8]= 18 / 100 = 0.18\n",
            "P[9]= 9 / 100 = 0.09\n",
            "P[10]= 6 / 100 = 0.06\n",
            "P[11]= 6 / 100 = 0.06\n",
            "P[12]= 4 / 100 = 0.04\n"
          ],
          "name": "stdout"
        }
      ]
    },
    {
      "metadata": {
        "id": "-gyFrWqxZYuw",
        "colab_type": "text"
      },
      "cell_type": "markdown",
      "source": [
        "# **b) Beklenen deger kesiklikli olasılık dagılımını bulunuz.**"
      ]
    },
    {
      "metadata": {
        "id": "s59LwybHZfXa",
        "colab_type": "code",
        "colab": {
          "base_uri": "https://localhost:8080/",
          "height": 204
        },
        "outputId": "2000b8f3-3396-4e94-cc46-01f7774aef67"
      },
      "cell_type": "code",
      "source": [
        "for i in range (2,13):\n",
        "    a=lst.count(i)\n",
        "    Px=a/100\n",
        "    Ex=i*Px\n",
        "    print(\"E[%s]= %s * %s = %s\" % (i,i,Px,Ex))"
      ],
      "execution_count": 17,
      "outputs": [
        {
          "output_type": "stream",
          "text": [
            "E[2]= 2 * 0.02 = 0.04\n",
            "E[3]= 3 * 0.1 = 0.30000000000000004\n",
            "E[4]= 4 * 0.12 = 0.48\n",
            "E[5]= 5 * 0.06 = 0.3\n",
            "E[6]= 6 * 0.12 = 0.72\n",
            "E[7]= 7 * 0.15 = 1.05\n",
            "E[8]= 8 * 0.18 = 1.44\n",
            "E[9]= 9 * 0.09 = 0.8099999999999999\n",
            "E[10]= 10 * 0.06 = 0.6\n",
            "E[11]= 11 * 0.06 = 0.6599999999999999\n",
            "E[12]= 12 * 0.04 = 0.48\n"
          ],
          "name": "stdout"
        }
      ]
    },
    {
      "metadata": {
        "id": "Wm9tN28JZki-",
        "colab_type": "text"
      },
      "cell_type": "markdown",
      "source": [
        "# **c) Varyans kesiklikli olasılık dagılımını bulunuz.**"
      ]
    },
    {
      "metadata": {
        "id": "aoGBrMDiZoAX",
        "colab_type": "code",
        "colab": {
          "base_uri": "https://localhost:8080/",
          "height": 952
        },
        "outputId": "21503752-8290-458c-cdb1-1a254d884ed6"
      },
      "cell_type": "code",
      "source": [
        "for i in range (2,13):\n",
        "    a=lst.count(i)\n",
        "    Px=a/100\n",
        "    Ex=i*Px\n",
        "    Exx=(i*i)*Px\n",
        "    VarX=Exx-Ex*Ex\n",
        "    print(\"Px=%s\" %Px)\n",
        "    print(\"Ex=%s\" %Ex)\n",
        "    print(\"Exx = (%s*%s) * %s = %s\"%(i,i,Px,Exx))\n",
        "    print(\"Var[X] = Exx - Ex * Ex = %s\" %VarX)\n",
        "    print(\"************************************\")"
      ],
      "execution_count": 19,
      "outputs": [
        {
          "output_type": "stream",
          "text": [
            "Px=0.02\n",
            "Ex=0.04\n",
            "Exx = (2*2) * 0.02 = 0.08\n",
            "Var[X] = Exx - Ex * Ex = 0.0784\n",
            "************************************\n",
            "Px=0.1\n",
            "Ex=0.30000000000000004\n",
            "Exx = (3*3) * 0.1 = 0.9\n",
            "Var[X] = Exx - Ex * Ex = 0.81\n",
            "************************************\n",
            "Px=0.12\n",
            "Ex=0.48\n",
            "Exx = (4*4) * 0.12 = 1.92\n",
            "Var[X] = Exx - Ex * Ex = 1.6896\n",
            "************************************\n",
            "Px=0.06\n",
            "Ex=0.3\n",
            "Exx = (5*5) * 0.06 = 1.5\n",
            "Var[X] = Exx - Ex * Ex = 1.41\n",
            "************************************\n",
            "Px=0.12\n",
            "Ex=0.72\n",
            "Exx = (6*6) * 0.12 = 4.32\n",
            "Var[X] = Exx - Ex * Ex = 3.8016000000000005\n",
            "************************************\n",
            "Px=0.15\n",
            "Ex=1.05\n",
            "Exx = (7*7) * 0.15 = 7.35\n",
            "Var[X] = Exx - Ex * Ex = 6.2475\n",
            "************************************\n",
            "Px=0.18\n",
            "Ex=1.44\n",
            "Exx = (8*8) * 0.18 = 11.52\n",
            "Var[X] = Exx - Ex * Ex = 9.4464\n",
            "************************************\n",
            "Px=0.09\n",
            "Ex=0.8099999999999999\n",
            "Exx = (9*9) * 0.09 = 7.29\n",
            "Var[X] = Exx - Ex * Ex = 6.633900000000001\n",
            "************************************\n",
            "Px=0.06\n",
            "Ex=0.6\n",
            "Exx = (10*10) * 0.06 = 6.0\n",
            "Var[X] = Exx - Ex * Ex = 5.64\n",
            "************************************\n",
            "Px=0.06\n",
            "Ex=0.6599999999999999\n",
            "Exx = (11*11) * 0.06 = 7.26\n",
            "Var[X] = Exx - Ex * Ex = 6.8244\n",
            "************************************\n",
            "Px=0.04\n",
            "Ex=0.48\n",
            "Exx = (12*12) * 0.04 = 5.76\n",
            "Var[X] = Exx - Ex * Ex = 5.529599999999999\n",
            "************************************\n"
          ],
          "name": "stdout"
        }
      ]
    }
  ]
}